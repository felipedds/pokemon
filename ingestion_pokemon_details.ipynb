{
 "cells": [
  {
   "cell_type": "code",
   "execution_count": 0,
   "metadata": {
    "application/vnd.databricks.v1+cell": {
     "cellMetadata": {
      "byteLimit": 2048000,
      "rowLimit": 10000
     },
     "inputWidgets": {},
     "nuid": "c2c7636e-c0d4-4658-8a0a-808d10edad80",
     "showTitle": false,
     "tableResultSettingsMap": {},
     "title": ""
    }
   },
   "outputs": [],
   "source": [
    "import datetime\n",
    "import json\n",
    "import requests\n",
    "from multiprocessing import Pool\n",
    "\n",
    "\n",
    "def get_and_save(url):\n",
    "    data = requests.get(url).json()\n",
    "    now = datetime.datetime.now().strftime(\"%d-%m-%Y-%H-%M-%S\")\n",
    "    file_name = f\"/Volumes/pokemon/pokemon_database/pokemon_raw_volume/pokemon_details/{id}_{now}.json\"\n",
    "    with open(file_name, \"w\") as file:\n",
    "        json.dump(data, file)\n",
    "\n",
    "url = \"https://pokeapi.co/api/v2/pokemon/33/\"\n",
    "get_and_save(url)\n",
    "\n",
    "df = spark.table(\"pokemon_list\")\n",
    "urls = df.select(\"url\").toPandas()[\"url\"].tolist()\n",
    "\n",
    "# Multithreading\n",
    "with Pool(4) as p:\n",
    "    print(p.map(get_and_save, urls))"
   ]
  },
  {
   "cell_type": "code",
   "execution_count": 0,
   "metadata": {
    "application/vnd.databricks.v1+cell": {
     "cellMetadata": {
      "byteLimit": 2048000,
      "rowLimit": 10000
     },
     "inputWidgets": {},
     "nuid": "9daf48de-76e3-4e85-b52a-8565ff15b356",
     "showTitle": false,
     "tableResultSettingsMap": {},
     "title": ""
    }
   },
   "outputs": [],
   "source": [
    "df = spark.read.json(\"/Volumes/pokemon/pokemon_database/pokemon_raw_volume/pokemon_details/\")\n",
    "df.display()"
   ]
  }
 ],
 "metadata": {
  "application/vnd.databricks.v1+notebook": {
   "computePreferences": null,
   "dashboards": [],
   "environmentMetadata": {
    "base_environment": "",
    "environment_version": "2"
   },
   "inputWidgetPreferences": null,
   "language": "python",
   "notebookMetadata": {
    "pythonIndentUnit": 4
   },
   "notebookName": "ingestion_pokemon_details",
   "widgets": {}
  },
  "language_info": {
   "name": "python"
  }
 },
 "nbformat": 4,
 "nbformat_minor": 0
}
